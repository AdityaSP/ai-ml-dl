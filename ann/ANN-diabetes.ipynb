{
 "cells": [
  {
   "cell_type": "markdown",
   "metadata": {},
   "source": [
    "## Import data"
   ]
  },
  {
   "cell_type": "code",
   "execution_count": 1,
   "metadata": {
    "collapsed": true
   },
   "outputs": [],
   "source": [
    "import numpy as np\n",
    "import matplotlib.pyplot as plt\n",
    "import pandas as pd"
   ]
  },
  {
   "cell_type": "code",
   "execution_count": 2,
   "metadata": {
    "collapsed": true
   },
   "outputs": [],
   "source": [
    "dataset = pd.read_csv(r'C:\\Users\\Dell lap\\Desktop\\training\\Machine Learning\\conda-ai-ml-dl\\diabetes_data_train_710samples.csv')"
   ]
  },
  {
   "cell_type": "code",
   "execution_count": 3,
   "metadata": {},
   "outputs": [
    {
     "data": {
      "text/html": [
       "<div>\n",
       "<style scoped>\n",
       "    .dataframe tbody tr th:only-of-type {\n",
       "        vertical-align: middle;\n",
       "    }\n",
       "\n",
       "    .dataframe tbody tr th {\n",
       "        vertical-align: top;\n",
       "    }\n",
       "\n",
       "    .dataframe thead th {\n",
       "        text-align: right;\n",
       "    }\n",
       "</style>\n",
       "<table border=\"1\" class=\"dataframe\">\n",
       "  <thead>\n",
       "    <tr style=\"text-align: right;\">\n",
       "      <th></th>\n",
       "      <th>Row</th>\n",
       "      <th>preg_count</th>\n",
       "      <th>glucose_concentration</th>\n",
       "      <th>diastolic_bp</th>\n",
       "      <th>triceps_skin_fold_thickness</th>\n",
       "      <th>two_hr_serum_insulin</th>\n",
       "      <th>bmi</th>\n",
       "      <th>diabetes_pedi</th>\n",
       "      <th>age</th>\n",
       "      <th>diabetes_class</th>\n",
       "    </tr>\n",
       "  </thead>\n",
       "  <tbody>\n",
       "    <tr>\n",
       "      <th>0</th>\n",
       "      <td>0</td>\n",
       "      <td>6</td>\n",
       "      <td>148</td>\n",
       "      <td>72</td>\n",
       "      <td>35</td>\n",
       "      <td>0</td>\n",
       "      <td>33.6</td>\n",
       "      <td>0.627</td>\n",
       "      <td>50</td>\n",
       "      <td>1</td>\n",
       "    </tr>\n",
       "    <tr>\n",
       "      <th>1</th>\n",
       "      <td>1</td>\n",
       "      <td>1</td>\n",
       "      <td>85</td>\n",
       "      <td>66</td>\n",
       "      <td>29</td>\n",
       "      <td>0</td>\n",
       "      <td>26.6</td>\n",
       "      <td>0.351</td>\n",
       "      <td>31</td>\n",
       "      <td>0</td>\n",
       "    </tr>\n",
       "    <tr>\n",
       "      <th>2</th>\n",
       "      <td>2</td>\n",
       "      <td>8</td>\n",
       "      <td>183</td>\n",
       "      <td>64</td>\n",
       "      <td>0</td>\n",
       "      <td>0</td>\n",
       "      <td>23.3</td>\n",
       "      <td>0.672</td>\n",
       "      <td>32</td>\n",
       "      <td>1</td>\n",
       "    </tr>\n",
       "    <tr>\n",
       "      <th>3</th>\n",
       "      <td>3</td>\n",
       "      <td>1</td>\n",
       "      <td>89</td>\n",
       "      <td>66</td>\n",
       "      <td>23</td>\n",
       "      <td>94</td>\n",
       "      <td>28.1</td>\n",
       "      <td>0.167</td>\n",
       "      <td>21</td>\n",
       "      <td>0</td>\n",
       "    </tr>\n",
       "    <tr>\n",
       "      <th>4</th>\n",
       "      <td>4</td>\n",
       "      <td>0</td>\n",
       "      <td>137</td>\n",
       "      <td>40</td>\n",
       "      <td>35</td>\n",
       "      <td>168</td>\n",
       "      <td>43.1</td>\n",
       "      <td>2.288</td>\n",
       "      <td>33</td>\n",
       "      <td>1</td>\n",
       "    </tr>\n",
       "  </tbody>\n",
       "</table>\n",
       "</div>"
      ],
      "text/plain": [
       "   Row  preg_count  glucose_concentration  diastolic_bp  \\\n",
       "0    0           6                    148            72   \n",
       "1    1           1                     85            66   \n",
       "2    2           8                    183            64   \n",
       "3    3           1                     89            66   \n",
       "4    4           0                    137            40   \n",
       "\n",
       "   triceps_skin_fold_thickness  two_hr_serum_insulin   bmi  diabetes_pedi  \\\n",
       "0                           35                     0  33.6          0.627   \n",
       "1                           29                     0  26.6          0.351   \n",
       "2                            0                     0  23.3          0.672   \n",
       "3                           23                    94  28.1          0.167   \n",
       "4                           35                   168  43.1          2.288   \n",
       "\n",
       "   age  diabetes_class  \n",
       "0   50               1  \n",
       "1   31               0  \n",
       "2   32               1  \n",
       "3   21               0  \n",
       "4   33               1  "
      ]
     },
     "execution_count": 3,
     "metadata": {},
     "output_type": "execute_result"
    }
   ],
   "source": [
    "dataset.head()"
   ]
  },
  {
   "cell_type": "code",
   "execution_count": 4,
   "metadata": {},
   "outputs": [
    {
     "data": {
      "text/html": [
       "<div>\n",
       "<style scoped>\n",
       "    .dataframe tbody tr th:only-of-type {\n",
       "        vertical-align: middle;\n",
       "    }\n",
       "\n",
       "    .dataframe tbody tr th {\n",
       "        vertical-align: top;\n",
       "    }\n",
       "\n",
       "    .dataframe thead th {\n",
       "        text-align: right;\n",
       "    }\n",
       "</style>\n",
       "<table border=\"1\" class=\"dataframe\">\n",
       "  <thead>\n",
       "    <tr style=\"text-align: right;\">\n",
       "      <th></th>\n",
       "      <th>Row</th>\n",
       "      <th>preg_count</th>\n",
       "      <th>glucose_concentration</th>\n",
       "      <th>diastolic_bp</th>\n",
       "      <th>triceps_skin_fold_thickness</th>\n",
       "      <th>two_hr_serum_insulin</th>\n",
       "      <th>bmi</th>\n",
       "      <th>diabetes_pedi</th>\n",
       "      <th>age</th>\n",
       "      <th>diabetes_class</th>\n",
       "    </tr>\n",
       "  </thead>\n",
       "  <tbody>\n",
       "    <tr>\n",
       "      <th>Row</th>\n",
       "      <td>1.000000</td>\n",
       "      <td>-0.049529</td>\n",
       "      <td>-0.003177</td>\n",
       "      <td>-0.011381</td>\n",
       "      <td>0.003161</td>\n",
       "      <td>0.005083</td>\n",
       "      <td>-0.012753</td>\n",
       "      <td>-0.030718</td>\n",
       "      <td>-0.007847</td>\n",
       "      <td>-0.063441</td>\n",
       "    </tr>\n",
       "    <tr>\n",
       "      <th>preg_count</th>\n",
       "      <td>-0.049529</td>\n",
       "      <td>1.000000</td>\n",
       "      <td>0.137212</td>\n",
       "      <td>0.142042</td>\n",
       "      <td>-0.096404</td>\n",
       "      <td>-0.069093</td>\n",
       "      <td>0.020589</td>\n",
       "      <td>-0.048586</td>\n",
       "      <td>0.546881</td>\n",
       "      <td>0.230506</td>\n",
       "    </tr>\n",
       "    <tr>\n",
       "      <th>glucose_concentration</th>\n",
       "      <td>-0.003177</td>\n",
       "      <td>0.137212</td>\n",
       "      <td>1.000000</td>\n",
       "      <td>0.146026</td>\n",
       "      <td>0.055279</td>\n",
       "      <td>0.327807</td>\n",
       "      <td>0.220797</td>\n",
       "      <td>0.139026</td>\n",
       "      <td>0.277794</td>\n",
       "      <td>0.458086</td>\n",
       "    </tr>\n",
       "    <tr>\n",
       "      <th>diastolic_bp</th>\n",
       "      <td>-0.011381</td>\n",
       "      <td>0.142042</td>\n",
       "      <td>0.146026</td>\n",
       "      <td>1.000000</td>\n",
       "      <td>0.211979</td>\n",
       "      <td>0.101921</td>\n",
       "      <td>0.279390</td>\n",
       "      <td>0.040030</td>\n",
       "      <td>0.237515</td>\n",
       "      <td>0.058391</td>\n",
       "    </tr>\n",
       "    <tr>\n",
       "      <th>triceps_skin_fold_thickness</th>\n",
       "      <td>0.003161</td>\n",
       "      <td>-0.096404</td>\n",
       "      <td>0.055279</td>\n",
       "      <td>0.211979</td>\n",
       "      <td>1.000000</td>\n",
       "      <td>0.440467</td>\n",
       "      <td>0.385673</td>\n",
       "      <td>0.181029</td>\n",
       "      <td>-0.116000</td>\n",
       "      <td>0.084880</td>\n",
       "    </tr>\n",
       "    <tr>\n",
       "      <th>two_hr_serum_insulin</th>\n",
       "      <td>0.005083</td>\n",
       "      <td>-0.069093</td>\n",
       "      <td>0.327807</td>\n",
       "      <td>0.101921</td>\n",
       "      <td>0.440467</td>\n",
       "      <td>1.000000</td>\n",
       "      <td>0.200392</td>\n",
       "      <td>0.189800</td>\n",
       "      <td>-0.026111</td>\n",
       "      <td>0.137614</td>\n",
       "    </tr>\n",
       "    <tr>\n",
       "      <th>bmi</th>\n",
       "      <td>-0.012753</td>\n",
       "      <td>0.020589</td>\n",
       "      <td>0.220797</td>\n",
       "      <td>0.279390</td>\n",
       "      <td>0.385673</td>\n",
       "      <td>0.200392</td>\n",
       "      <td>1.000000</td>\n",
       "      <td>0.138409</td>\n",
       "      <td>0.036475</td>\n",
       "      <td>0.291296</td>\n",
       "    </tr>\n",
       "    <tr>\n",
       "      <th>diabetes_pedi</th>\n",
       "      <td>-0.030718</td>\n",
       "      <td>-0.048586</td>\n",
       "      <td>0.139026</td>\n",
       "      <td>0.040030</td>\n",
       "      <td>0.181029</td>\n",
       "      <td>0.189800</td>\n",
       "      <td>0.138409</td>\n",
       "      <td>1.000000</td>\n",
       "      <td>0.036862</td>\n",
       "      <td>0.172729</td>\n",
       "    </tr>\n",
       "    <tr>\n",
       "      <th>age</th>\n",
       "      <td>-0.007847</td>\n",
       "      <td>0.546881</td>\n",
       "      <td>0.277794</td>\n",
       "      <td>0.237515</td>\n",
       "      <td>-0.116000</td>\n",
       "      <td>-0.026111</td>\n",
       "      <td>0.036475</td>\n",
       "      <td>0.036862</td>\n",
       "      <td>1.000000</td>\n",
       "      <td>0.231088</td>\n",
       "    </tr>\n",
       "    <tr>\n",
       "      <th>diabetes_class</th>\n",
       "      <td>-0.063441</td>\n",
       "      <td>0.230506</td>\n",
       "      <td>0.458086</td>\n",
       "      <td>0.058391</td>\n",
       "      <td>0.084880</td>\n",
       "      <td>0.137614</td>\n",
       "      <td>0.291296</td>\n",
       "      <td>0.172729</td>\n",
       "      <td>0.231088</td>\n",
       "      <td>1.000000</td>\n",
       "    </tr>\n",
       "  </tbody>\n",
       "</table>\n",
       "</div>"
      ],
      "text/plain": [
       "                                  Row  preg_count  glucose_concentration  \\\n",
       "Row                          1.000000   -0.049529              -0.003177   \n",
       "preg_count                  -0.049529    1.000000               0.137212   \n",
       "glucose_concentration       -0.003177    0.137212               1.000000   \n",
       "diastolic_bp                -0.011381    0.142042               0.146026   \n",
       "triceps_skin_fold_thickness  0.003161   -0.096404               0.055279   \n",
       "two_hr_serum_insulin         0.005083   -0.069093               0.327807   \n",
       "bmi                         -0.012753    0.020589               0.220797   \n",
       "diabetes_pedi               -0.030718   -0.048586               0.139026   \n",
       "age                         -0.007847    0.546881               0.277794   \n",
       "diabetes_class              -0.063441    0.230506               0.458086   \n",
       "\n",
       "                             diastolic_bp  triceps_skin_fold_thickness  \\\n",
       "Row                             -0.011381                     0.003161   \n",
       "preg_count                       0.142042                    -0.096404   \n",
       "glucose_concentration            0.146026                     0.055279   \n",
       "diastolic_bp                     1.000000                     0.211979   \n",
       "triceps_skin_fold_thickness      0.211979                     1.000000   \n",
       "two_hr_serum_insulin             0.101921                     0.440467   \n",
       "bmi                              0.279390                     0.385673   \n",
       "diabetes_pedi                    0.040030                     0.181029   \n",
       "age                              0.237515                    -0.116000   \n",
       "diabetes_class                   0.058391                     0.084880   \n",
       "\n",
       "                             two_hr_serum_insulin       bmi  diabetes_pedi  \\\n",
       "Row                                      0.005083 -0.012753      -0.030718   \n",
       "preg_count                              -0.069093  0.020589      -0.048586   \n",
       "glucose_concentration                    0.327807  0.220797       0.139026   \n",
       "diastolic_bp                             0.101921  0.279390       0.040030   \n",
       "triceps_skin_fold_thickness              0.440467  0.385673       0.181029   \n",
       "two_hr_serum_insulin                     1.000000  0.200392       0.189800   \n",
       "bmi                                      0.200392  1.000000       0.138409   \n",
       "diabetes_pedi                            0.189800  0.138409       1.000000   \n",
       "age                                     -0.026111  0.036475       0.036862   \n",
       "diabetes_class                           0.137614  0.291296       0.172729   \n",
       "\n",
       "                                  age  diabetes_class  \n",
       "Row                         -0.007847       -0.063441  \n",
       "preg_count                   0.546881        0.230506  \n",
       "glucose_concentration        0.277794        0.458086  \n",
       "diastolic_bp                 0.237515        0.058391  \n",
       "triceps_skin_fold_thickness -0.116000        0.084880  \n",
       "two_hr_serum_insulin        -0.026111        0.137614  \n",
       "bmi                          0.036475        0.291296  \n",
       "diabetes_pedi                0.036862        0.172729  \n",
       "age                          1.000000        0.231088  \n",
       "diabetes_class               0.231088        1.000000  "
      ]
     },
     "execution_count": 4,
     "metadata": {},
     "output_type": "execute_result"
    }
   ],
   "source": [
    "dataset.corr()"
   ]
  },
  {
   "cell_type": "markdown",
   "metadata": {},
   "source": [
    "## features = X, target = y"
   ]
  },
  {
   "cell_type": "code",
   "execution_count": 8,
   "metadata": {
    "collapsed": true
   },
   "outputs": [],
   "source": [
    "X = dataset.iloc[:, 1:9].values\n",
    "y = dataset.iloc[:, 9].values"
   ]
  },
  {
   "cell_type": "markdown",
   "metadata": {},
   "source": [
    "## split data into train and test"
   ]
  },
  {
   "cell_type": "code",
   "execution_count": 12,
   "metadata": {
    "collapsed": true
   },
   "outputs": [],
   "source": [
    "from sklearn.model_selection import train_test_split\n",
    "X_train, X_test, y_train, y_test = train_test_split(X, y, test_size = 0.2, random_state = 0)"
   ]
  },
  {
   "cell_type": "code",
   "execution_count": 14,
   "metadata": {},
   "outputs": [
    {
     "name": "stdout",
     "output_type": "stream",
     "text": [
      "142 568 142 568\n"
     ]
    }
   ],
   "source": [
    "print(len(X_test), len(X_train), len(y_test), len(y_train))"
   ]
  },
  {
   "cell_type": "markdown",
   "metadata": {},
   "source": [
    "## ANN- Start to build the network\n",
    "### Import from keras"
   ]
  },
  {
   "cell_type": "code",
   "execution_count": 15,
   "metadata": {},
   "outputs": [
    {
     "name": "stderr",
     "output_type": "stream",
     "text": [
      "Using TensorFlow backend.\n"
     ]
    }
   ],
   "source": [
    "import keras\n",
    "from keras.models import Sequential\n",
    "from keras.layers import Dense"
   ]
  },
  {
   "cell_type": "code",
   "execution_count": 17,
   "metadata": {
    "collapsed": true
   },
   "outputs": [],
   "source": [
    "classifier = Sequential()"
   ]
  },
  {
   "cell_type": "code",
   "execution_count": 18,
   "metadata": {
    "collapsed": true
   },
   "outputs": [],
   "source": [
    "classifier.add(Dense(input_dim = 8,activation = 'relu', kernel_initializer = 'uniform',units = 4))"
   ]
  },
  {
   "cell_type": "code",
   "execution_count": 19,
   "metadata": {
    "collapsed": true
   },
   "outputs": [],
   "source": [
    "classifier.add(Dense(activation = 'sigmoid', kernel_initializer = 'uniform',units = 1))"
   ]
  },
  {
   "cell_type": "code",
   "execution_count": 20,
   "metadata": {
    "collapsed": true
   },
   "outputs": [],
   "source": [
    "classifier.compile(optimizer = 'adam', loss = 'binary_crossentropy', metrics = ['accuracy'])"
   ]
  },
  {
   "cell_type": "code",
   "execution_count": 22,
   "metadata": {},
   "outputs": [
    {
     "name": "stdout",
     "output_type": "stream",
     "text": [
      "Epoch 1/200\n",
      "568/568 [==============================] - 0s 206us/step - loss: 0.5543 - acc: 0.7183\n",
      "Epoch 2/200\n",
      "568/568 [==============================] - 0s 203us/step - loss: 0.5531 - acc: 0.7165\n",
      "Epoch 3/200\n",
      "568/568 [==============================] - 0s 160us/step - loss: 0.5615 - acc: 0.7218\n",
      "Epoch 4/200\n",
      "568/568 [==============================] - 0s 167us/step - loss: 0.5516 - acc: 0.7289\n",
      "Epoch 5/200\n",
      "568/568 [==============================] - 0s 217us/step - loss: 0.5532 - acc: 0.7324\n",
      "Epoch 6/200\n",
      "568/568 [==============================] - 0s 199us/step - loss: 0.5537 - acc: 0.7130 0s - loss: 0.5526 - acc: 0.714\n",
      "Epoch 7/200\n",
      "568/568 [==============================] - 0s 181us/step - loss: 0.5518 - acc: 0.7306\n",
      "Epoch 8/200\n",
      "568/568 [==============================] - 0s 213us/step - loss: 0.5490 - acc: 0.7342\n",
      "Epoch 9/200\n",
      "568/568 [==============================] - 0s 217us/step - loss: 0.5594 - acc: 0.7289\n",
      "Epoch 10/200\n",
      "568/568 [==============================] - 0s 206us/step - loss: 0.5551 - acc: 0.7359\n",
      "Epoch 11/200\n",
      "568/568 [==============================] - 0s 201us/step - loss: 0.5541 - acc: 0.7306\n",
      "Epoch 12/200\n",
      "568/568 [==============================] - 0s 180us/step - loss: 0.5513 - acc: 0.7377\n",
      "Epoch 13/200\n",
      "568/568 [==============================] - 0s 208us/step - loss: 0.5486 - acc: 0.7236\n",
      "Epoch 14/200\n",
      "568/568 [==============================] - 0s 204us/step - loss: 0.5539 - acc: 0.7165\n",
      "Epoch 15/200\n",
      "568/568 [==============================] - 0s 226us/step - loss: 0.5532 - acc: 0.7113\n",
      "Epoch 16/200\n",
      "568/568 [==============================] - 0s 252us/step - loss: 0.5453 - acc: 0.7289\n",
      "Epoch 17/200\n",
      "568/568 [==============================] - 0s 254us/step - loss: 0.5501 - acc: 0.7271\n",
      "Epoch 18/200\n",
      "568/568 [==============================] - 0s 213us/step - loss: 0.5477 - acc: 0.7289\n",
      "Epoch 19/200\n",
      "568/568 [==============================] - 0s 220us/step - loss: 0.5463 - acc: 0.7324\n",
      "Epoch 20/200\n",
      "568/568 [==============================] - 0s 211us/step - loss: 0.5444 - acc: 0.7377\n",
      "Epoch 21/200\n",
      "568/568 [==============================] - 0s 227us/step - loss: 0.5473 - acc: 0.7218\n",
      "Epoch 22/200\n",
      "568/568 [==============================] - 0s 241us/step - loss: 0.5463 - acc: 0.7306\n",
      "Epoch 23/200\n",
      "568/568 [==============================] - 0s 240us/step - loss: 0.5444 - acc: 0.7324\n",
      "Epoch 24/200\n",
      "568/568 [==============================] - 0s 224us/step - loss: 0.5494 - acc: 0.7394\n",
      "Epoch 25/200\n",
      "568/568 [==============================] - 0s 225us/step - loss: 0.5472 - acc: 0.7342\n",
      "Epoch 26/200\n",
      "568/568 [==============================] - 0s 234us/step - loss: 0.5449 - acc: 0.7254\n",
      "Epoch 27/200\n",
      "568/568 [==============================] - 0s 261us/step - loss: 0.5458 - acc: 0.7324\n",
      "Epoch 28/200\n",
      "568/568 [==============================] - 0s 248us/step - loss: 0.5454 - acc: 0.7359\n",
      "Epoch 29/200\n",
      "568/568 [==============================] - 0s 227us/step - loss: 0.5415 - acc: 0.7359\n",
      "Epoch 30/200\n",
      "568/568 [==============================] - 0s 227us/step - loss: 0.5419 - acc: 0.7394\n",
      "Epoch 31/200\n",
      "568/568 [==============================] - 0s 233us/step - loss: 0.5425 - acc: 0.7359\n",
      "Epoch 32/200\n",
      "568/568 [==============================] - 0s 220us/step - loss: 0.5494 - acc: 0.7271\n",
      "Epoch 33/200\n",
      "568/568 [==============================] - 0s 218us/step - loss: 0.5459 - acc: 0.7289\n",
      "Epoch 34/200\n",
      "568/568 [==============================] - 0s 245us/step - loss: 0.5470 - acc: 0.7342\n",
      "Epoch 35/200\n",
      "568/568 [==============================] - 0s 211us/step - loss: 0.5404 - acc: 0.7377\n",
      "Epoch 36/200\n",
      "568/568 [==============================] - 0s 203us/step - loss: 0.5385 - acc: 0.7377\n",
      "Epoch 37/200\n",
      "568/568 [==============================] - ETA: 0s - loss: 0.5420 - acc: 0.740 - 0s 210us/step - loss: 0.5398 - acc: 0.7394\n",
      "Epoch 38/200\n",
      "568/568 [==============================] - 0s 229us/step - loss: 0.5408 - acc: 0.7289\n",
      "Epoch 39/200\n",
      "568/568 [==============================] - 0s 255us/step - loss: 0.5417 - acc: 0.7324\n",
      "Epoch 40/200\n",
      "568/568 [==============================] - 0s 248us/step - loss: 0.5432 - acc: 0.7447\n",
      "Epoch 41/200\n",
      "568/568 [==============================] - 0s 222us/step - loss: 0.5364 - acc: 0.7482\n",
      "Epoch 42/200\n",
      "568/568 [==============================] - 0s 236us/step - loss: 0.5371 - acc: 0.7447\n",
      "Epoch 43/200\n",
      "568/568 [==============================] - 0s 211us/step - loss: 0.5372 - acc: 0.7377\n",
      "Epoch 44/200\n",
      "568/568 [==============================] - 0s 252us/step - loss: 0.5372 - acc: 0.7447\n",
      "Epoch 45/200\n",
      "568/568 [==============================] - 0s 213us/step - loss: 0.5390 - acc: 0.7271\n",
      "Epoch 46/200\n",
      "568/568 [==============================] - 0s 247us/step - loss: 0.5349 - acc: 0.7359\n",
      "Epoch 47/200\n",
      "568/568 [==============================] - 0s 226us/step - loss: 0.5332 - acc: 0.7377\n",
      "Epoch 48/200\n",
      "568/568 [==============================] - 0s 226us/step - loss: 0.5363 - acc: 0.7465\n",
      "Epoch 49/200\n",
      "568/568 [==============================] - 0s 250us/step - loss: 0.5327 - acc: 0.7430\n",
      "Epoch 50/200\n",
      "568/568 [==============================] - 0s 231us/step - loss: 0.5450 - acc: 0.7342\n",
      "Epoch 51/200\n",
      "568/568 [==============================] - 0s 226us/step - loss: 0.5370 - acc: 0.7377\n",
      "Epoch 52/200\n",
      "568/568 [==============================] - 0s 241us/step - loss: 0.5318 - acc: 0.7482\n",
      "Epoch 53/200\n",
      "568/568 [==============================] - 0s 217us/step - loss: 0.5393 - acc: 0.7465\n",
      "Epoch 54/200\n",
      "568/568 [==============================] - 0s 226us/step - loss: 0.5329 - acc: 0.7394\n",
      "Epoch 55/200\n",
      "568/568 [==============================] - 0s 227us/step - loss: 0.5337 - acc: 0.7447\n",
      "Epoch 56/200\n",
      "568/568 [==============================] - 0s 218us/step - loss: 0.5396 - acc: 0.7342\n",
      "Epoch 57/200\n",
      "568/568 [==============================] - 0s 211us/step - loss: 0.5373 - acc: 0.7306\n",
      "Epoch 58/200\n",
      "568/568 [==============================] - 0s 213us/step - loss: 0.5364 - acc: 0.7324\n",
      "Epoch 59/200\n",
      "568/568 [==============================] - 0s 211us/step - loss: 0.5421 - acc: 0.7412\n",
      "Epoch 60/200\n",
      "568/568 [==============================] - 0s 206us/step - loss: 0.5365 - acc: 0.7500\n",
      "Epoch 61/200\n",
      "568/568 [==============================] - 0s 215us/step - loss: 0.5401 - acc: 0.7201\n",
      "Epoch 62/200\n",
      "568/568 [==============================] - 0s 211us/step - loss: 0.5314 - acc: 0.7342\n",
      "Epoch 63/200\n",
      "568/568 [==============================] - 0s 224us/step - loss: 0.5287 - acc: 0.7465\n",
      "Epoch 64/200\n",
      "568/568 [==============================] - 0s 206us/step - loss: 0.5340 - acc: 0.7518\n",
      "Epoch 65/200\n",
      "568/568 [==============================] - 0s 183us/step - loss: 0.5300 - acc: 0.7535\n",
      "Epoch 66/200\n",
      "568/568 [==============================] - 0s 231us/step - loss: 0.5292 - acc: 0.7482\n",
      "Epoch 67/200\n",
      "568/568 [==============================] - 0s 231us/step - loss: 0.5352 - acc: 0.7359\n",
      "Epoch 68/200\n",
      "568/568 [==============================] - 0s 231us/step - loss: 0.5282 - acc: 0.7500\n",
      "Epoch 69/200\n",
      "568/568 [==============================] - 0s 224us/step - loss: 0.5329 - acc: 0.7324\n",
      "Epoch 70/200\n",
      "568/568 [==============================] - 0s 203us/step - loss: 0.5301 - acc: 0.7254\n",
      "Epoch 71/200\n",
      "568/568 [==============================] - 0s 220us/step - loss: 0.5338 - acc: 0.7465\n",
      "Epoch 72/200\n",
      "568/568 [==============================] - 0s 211us/step - loss: 0.5277 - acc: 0.7412\n",
      "Epoch 73/200\n",
      "568/568 [==============================] - 0s 217us/step - loss: 0.5313 - acc: 0.7394\n",
      "Epoch 74/200\n",
      "568/568 [==============================] - 0s 180us/step - loss: 0.5282 - acc: 0.7377\n",
      "Epoch 75/200\n",
      "568/568 [==============================] - 0s 180us/step - loss: 0.5309 - acc: 0.7465\n",
      "Epoch 76/200\n",
      "568/568 [==============================] - 0s 192us/step - loss: 0.5289 - acc: 0.7377\n",
      "Epoch 77/200\n",
      "568/568 [==============================] - 0s 204us/step - loss: 0.5256 - acc: 0.7430\n",
      "Epoch 78/200\n",
      "568/568 [==============================] - 0s 220us/step - loss: 0.5311 - acc: 0.7342\n",
      "Epoch 79/200\n",
      "568/568 [==============================] - 0s 183us/step - loss: 0.5252 - acc: 0.7430\n",
      "Epoch 80/200\n",
      "568/568 [==============================] - 0s 222us/step - loss: 0.5244 - acc: 0.7412\n",
      "Epoch 81/200\n",
      "568/568 [==============================] - 0s 196us/step - loss: 0.5293 - acc: 0.7518\n",
      "Epoch 82/200\n",
      "568/568 [==============================] - 0s 218us/step - loss: 0.5288 - acc: 0.7359\n",
      "Epoch 83/200\n"
     ]
    },
    {
     "name": "stdout",
     "output_type": "stream",
     "text": [
      "568/568 [==============================] - 0s 213us/step - loss: 0.5243 - acc: 0.7447\n",
      "Epoch 84/200\n",
      "568/568 [==============================] - 0s 227us/step - loss: 0.5267 - acc: 0.7377\n",
      "Epoch 85/200\n",
      "568/568 [==============================] - 0s 217us/step - loss: 0.5287 - acc: 0.7535\n",
      "Epoch 86/200\n",
      "568/568 [==============================] - 0s 208us/step - loss: 0.5254 - acc: 0.7447\n",
      "Epoch 87/200\n",
      "568/568 [==============================] - 0s 206us/step - loss: 0.5284 - acc: 0.7535\n",
      "Epoch 88/200\n",
      "568/568 [==============================] - 0s 227us/step - loss: 0.5255 - acc: 0.7518\n",
      "Epoch 89/200\n",
      "568/568 [==============================] - 0s 181us/step - loss: 0.5218 - acc: 0.7482\n",
      "Epoch 90/200\n",
      "568/568 [==============================] - 0s 213us/step - loss: 0.5215 - acc: 0.7518\n",
      "Epoch 91/200\n",
      "568/568 [==============================] - 0s 190us/step - loss: 0.5243 - acc: 0.7500\n",
      "Epoch 92/200\n",
      "568/568 [==============================] - 0s 233us/step - loss: 0.5310 - acc: 0.7447\n",
      "Epoch 93/200\n",
      "568/568 [==============================] - 0s 218us/step - loss: 0.5292 - acc: 0.7342\n",
      "Epoch 94/200\n",
      "568/568 [==============================] - 0s 201us/step - loss: 0.5235 - acc: 0.7482\n",
      "Epoch 95/200\n",
      "568/568 [==============================] - 0s 220us/step - loss: 0.5230 - acc: 0.7447\n",
      "Epoch 96/200\n",
      "568/568 [==============================] - 0s 224us/step - loss: 0.5271 - acc: 0.7482\n",
      "Epoch 97/200\n",
      "568/568 [==============================] - 0s 210us/step - loss: 0.5232 - acc: 0.7359\n",
      "Epoch 98/200\n",
      "568/568 [==============================] - 0s 247us/step - loss: 0.5281 - acc: 0.7447\n",
      "Epoch 99/200\n",
      "568/568 [==============================] - 0s 178us/step - loss: 0.5204 - acc: 0.7394\n",
      "Epoch 100/200\n",
      "568/568 [==============================] - 0s 234us/step - loss: 0.5239 - acc: 0.7447\n",
      "Epoch 101/200\n",
      "568/568 [==============================] - 0s 204us/step - loss: 0.5259 - acc: 0.7394\n",
      "Epoch 102/200\n",
      "568/568 [==============================] - 0s 217us/step - loss: 0.5146 - acc: 0.7500\n",
      "Epoch 103/200\n",
      "568/568 [==============================] - 0s 234us/step - loss: 0.5215 - acc: 0.7412\n",
      "Epoch 104/200\n",
      "568/568 [==============================] - 0s 213us/step - loss: 0.5233 - acc: 0.7412\n",
      "Epoch 105/200\n",
      "568/568 [==============================] - 0s 213us/step - loss: 0.5204 - acc: 0.7482\n",
      "Epoch 106/200\n",
      "568/568 [==============================] - 0s 222us/step - loss: 0.5196 - acc: 0.7518\n",
      "Epoch 107/200\n",
      "568/568 [==============================] - 0s 194us/step - loss: 0.5205 - acc: 0.7412\n",
      "Epoch 108/200\n",
      "568/568 [==============================] - 0s 218us/step - loss: 0.5319 - acc: 0.7394\n",
      "Epoch 109/200\n",
      "568/568 [==============================] - 0s 222us/step - loss: 0.5256 - acc: 0.7570\n",
      "Epoch 110/200\n",
      "568/568 [==============================] - 0s 196us/step - loss: 0.5157 - acc: 0.7535\n",
      "Epoch 111/200\n",
      "568/568 [==============================] - 0s 233us/step - loss: 0.5290 - acc: 0.7500\n",
      "Epoch 112/200\n",
      "568/568 [==============================] - 0s 213us/step - loss: 0.5227 - acc: 0.7588\n",
      "Epoch 113/200\n",
      "568/568 [==============================] - 0s 222us/step - loss: 0.5202 - acc: 0.7535\n",
      "Epoch 114/200\n",
      "568/568 [==============================] - 0s 183us/step - loss: 0.5224 - acc: 0.7430\n",
      "Epoch 115/200\n",
      "568/568 [==============================] - 0s 178us/step - loss: 0.5146 - acc: 0.7465\n",
      "Epoch 116/200\n",
      "568/568 [==============================] - 0s 173us/step - loss: 0.5161 - acc: 0.7500\n",
      "Epoch 117/200\n",
      "568/568 [==============================] - 0s 174us/step - loss: 0.5175 - acc: 0.7535\n",
      "Epoch 118/200\n",
      "568/568 [==============================] - 0s 167us/step - loss: 0.5281 - acc: 0.7324\n",
      "Epoch 119/200\n",
      "568/568 [==============================] - 0s 171us/step - loss: 0.5229 - acc: 0.7377\n",
      "Epoch 120/200\n",
      "568/568 [==============================] - 0s 181us/step - loss: 0.5151 - acc: 0.7289\n",
      "Epoch 121/200\n",
      "568/568 [==============================] - 0s 189us/step - loss: 0.5204 - acc: 0.7535\n",
      "Epoch 122/200\n",
      "568/568 [==============================] - 0s 176us/step - loss: 0.5275 - acc: 0.7377\n",
      "Epoch 123/200\n",
      "568/568 [==============================] - 0s 194us/step - loss: 0.5178 - acc: 0.7359\n",
      "Epoch 124/200\n",
      "568/568 [==============================] - 0s 225us/step - loss: 0.5214 - acc: 0.7588\n",
      "Epoch 125/200\n",
      "568/568 [==============================] - 0s 181us/step - loss: 0.5168 - acc: 0.7377\n",
      "Epoch 126/200\n",
      "568/568 [==============================] - 0s 201us/step - loss: 0.5194 - acc: 0.7412\n",
      "Epoch 127/200\n",
      "568/568 [==============================] - 0s 201us/step - loss: 0.5229 - acc: 0.7377\n",
      "Epoch 128/200\n",
      "568/568 [==============================] - 0s 262us/step - loss: 0.5153 - acc: 0.7518\n",
      "Epoch 129/200\n",
      "568/568 [==============================] - 0s 233us/step - loss: 0.5141 - acc: 0.7289\n",
      "Epoch 130/200\n",
      "568/568 [==============================] - 0s 308us/step - loss: 0.5141 - acc: 0.7359\n",
      "Epoch 131/200\n",
      "568/568 [==============================] - 0s 294us/step - loss: 0.5146 - acc: 0.7447\n",
      "Epoch 132/200\n",
      "568/568 [==============================] - 0s 208us/step - loss: 0.5154 - acc: 0.7465 0s - loss: 0.5183 - acc: 0.747\n",
      "Epoch 133/200\n",
      "568/568 [==============================] - 0s 169us/step - loss: 0.5209 - acc: 0.7641\n",
      "Epoch 134/200\n",
      "568/568 [==============================] - 0s 252us/step - loss: 0.5141 - acc: 0.7623\n",
      "Epoch 135/200\n",
      "568/568 [==============================] - 0s 229us/step - loss: 0.5100 - acc: 0.7588\n",
      "Epoch 136/200\n",
      "568/568 [==============================] - 0s 211us/step - loss: 0.5200 - acc: 0.7342\n",
      "Epoch 137/200\n",
      "568/568 [==============================] - 0s 238us/step - loss: 0.5208 - acc: 0.7553\n",
      "Epoch 138/200\n",
      "568/568 [==============================] - 0s 278us/step - loss: 0.5134 - acc: 0.7430\n",
      "Epoch 139/200\n",
      "568/568 [==============================] - 0s 213us/step - loss: 0.5152 - acc: 0.7570\n",
      "Epoch 140/200\n",
      "568/568 [==============================] - 0s 220us/step - loss: 0.5132 - acc: 0.7465\n",
      "Epoch 141/200\n",
      "568/568 [==============================] - 0s 226us/step - loss: 0.5155 - acc: 0.7465\n",
      "Epoch 142/200\n",
      "568/568 [==============================] - 0s 204us/step - loss: 0.5209 - acc: 0.7447\n",
      "Epoch 143/200\n",
      "568/568 [==============================] - 0s 185us/step - loss: 0.5152 - acc: 0.7553\n",
      "Epoch 144/200\n",
      "568/568 [==============================] - 0s 213us/step - loss: 0.5129 - acc: 0.7535\n",
      "Epoch 145/200\n",
      "568/568 [==============================] - 0s 356us/step - loss: 0.5078 - acc: 0.7535\n",
      "Epoch 146/200\n",
      "568/568 [==============================] - 0s 233us/step - loss: 0.5210 - acc: 0.7377\n",
      "Epoch 147/200\n",
      "568/568 [==============================] - 0s 254us/step - loss: 0.5148 - acc: 0.7518\n",
      "Epoch 148/200\n",
      "568/568 [==============================] - 0s 218us/step - loss: 0.5130 - acc: 0.7465\n",
      "Epoch 149/200\n",
      "568/568 [==============================] - 0s 261us/step - loss: 0.5173 - acc: 0.7377\n",
      "Epoch 150/200\n",
      "568/568 [==============================] - 0s 241us/step - loss: 0.5182 - acc: 0.7465\n",
      "Epoch 151/200\n",
      "568/568 [==============================] - 0s 270us/step - loss: 0.5184 - acc: 0.7465\n",
      "Epoch 152/200\n",
      "568/568 [==============================] - 0s 324us/step - loss: 0.5152 - acc: 0.7500\n",
      "Epoch 153/200\n",
      "568/568 [==============================] - 0s 266us/step - loss: 0.5147 - acc: 0.7518\n",
      "Epoch 154/200\n",
      "568/568 [==============================] - 0s 234us/step - loss: 0.5045 - acc: 0.7553\n",
      "Epoch 155/200\n",
      "568/568 [==============================] - 0s 266us/step - loss: 0.5193 - acc: 0.7535\n",
      "Epoch 156/200\n",
      "568/568 [==============================] - 0s 254us/step - loss: 0.5108 - acc: 0.7606\n",
      "Epoch 157/200\n",
      "568/568 [==============================] - 0s 234us/step - loss: 0.5211 - acc: 0.7412\n",
      "Epoch 158/200\n",
      "568/568 [==============================] - 0s 282us/step - loss: 0.5138 - acc: 0.7588\n",
      "Epoch 159/200\n",
      "568/568 [==============================] - 0s 261us/step - loss: 0.5137 - acc: 0.7500\n",
      "Epoch 160/200\n",
      "568/568 [==============================] - 0s 220us/step - loss: 0.5130 - acc: 0.7482\n",
      "Epoch 161/200\n",
      "568/568 [==============================] - 0s 252us/step - loss: 0.5193 - acc: 0.7377\n",
      "Epoch 162/200\n",
      "568/568 [==============================] - 0s 238us/step - loss: 0.5144 - acc: 0.7588\n",
      "Epoch 163/200\n",
      "568/568 [==============================] - 0s 224us/step - loss: 0.5101 - acc: 0.7518\n",
      "Epoch 164/200\n"
     ]
    },
    {
     "name": "stdout",
     "output_type": "stream",
     "text": [
      "568/568 [==============================] - 0s 215us/step - loss: 0.5118 - acc: 0.7465\n",
      "Epoch 165/200\n",
      "568/568 [==============================] - 0s 199us/step - loss: 0.5103 - acc: 0.7570\n",
      "Epoch 166/200\n",
      "568/568 [==============================] - 0s 262us/step - loss: 0.5169 - acc: 0.7465\n",
      "Epoch 167/200\n",
      "568/568 [==============================] - 0s 204us/step - loss: 0.5136 - acc: 0.7553\n",
      "Epoch 168/200\n",
      "568/568 [==============================] - 0s 218us/step - loss: 0.5102 - acc: 0.7500\n",
      "Epoch 169/200\n",
      "568/568 [==============================] - 0s 231us/step - loss: 0.5164 - acc: 0.7535\n",
      "Epoch 170/200\n",
      "568/568 [==============================] - 0s 211us/step - loss: 0.5220 - acc: 0.7394\n",
      "Epoch 171/200\n",
      "568/568 [==============================] - 0s 218us/step - loss: 0.5084 - acc: 0.7535\n",
      "Epoch 172/200\n",
      "568/568 [==============================] - 0s 257us/step - loss: 0.5000 - acc: 0.7535\n",
      "Epoch 173/200\n",
      "568/568 [==============================] - 0s 321us/step - loss: 0.5201 - acc: 0.7482\n",
      "Epoch 174/200\n",
      "568/568 [==============================] - 0s 245us/step - loss: 0.5062 - acc: 0.7570\n",
      "Epoch 175/200\n",
      "568/568 [==============================] - 0s 231us/step - loss: 0.5096 - acc: 0.7377\n",
      "Epoch 176/200\n",
      "568/568 [==============================] - 0s 227us/step - loss: 0.5102 - acc: 0.7553\n",
      "Epoch 177/200\n",
      "568/568 [==============================] - 0s 217us/step - loss: 0.5158 - acc: 0.7535\n",
      "Epoch 178/200\n",
      "568/568 [==============================] - 0s 222us/step - loss: 0.5124 - acc: 0.7570\n",
      "Epoch 179/200\n",
      "568/568 [==============================] - 0s 201us/step - loss: 0.5079 - acc: 0.7535\n",
      "Epoch 180/200\n",
      "568/568 [==============================] - 0s 285us/step - loss: 0.5148 - acc: 0.7518\n",
      "Epoch 181/200\n",
      "568/568 [==============================] - 0s 252us/step - loss: 0.5064 - acc: 0.7465\n",
      "Epoch 182/200\n",
      "568/568 [==============================] - 0s 245us/step - loss: 0.5206 - acc: 0.7553\n",
      "Epoch 183/200\n",
      "568/568 [==============================] - 0s 213us/step - loss: 0.5071 - acc: 0.7447\n",
      "Epoch 184/200\n",
      "568/568 [==============================] - 0s 224us/step - loss: 0.5031 - acc: 0.7465\n",
      "Epoch 185/200\n",
      "568/568 [==============================] - 0s 204us/step - loss: 0.5040 - acc: 0.7658\n",
      "Epoch 186/200\n",
      "568/568 [==============================] - 0s 234us/step - loss: 0.5097 - acc: 0.7553\n",
      "Epoch 187/200\n",
      "568/568 [==============================] - 0s 282us/step - loss: 0.5048 - acc: 0.7641\n",
      "Epoch 188/200\n",
      "568/568 [==============================] - 0s 275us/step - loss: 0.5076 - acc: 0.7500\n",
      "Epoch 189/200\n",
      "568/568 [==============================] - 0s 236us/step - loss: 0.5030 - acc: 0.7535\n",
      "Epoch 190/200\n",
      "568/568 [==============================] - 0s 234us/step - loss: 0.5130 - acc: 0.7518\n",
      "Epoch 191/200\n",
      "568/568 [==============================] - 0s 254us/step - loss: 0.5037 - acc: 0.7606\n",
      "Epoch 192/200\n",
      "568/568 [==============================] - 0s 261us/step - loss: 0.5027 - acc: 0.7606\n",
      "Epoch 193/200\n",
      "568/568 [==============================] - 0s 252us/step - loss: 0.5015 - acc: 0.7676\n",
      "Epoch 194/200\n",
      "568/568 [==============================] - 0s 250us/step - loss: 0.5047 - acc: 0.7518\n",
      "Epoch 195/200\n",
      "568/568 [==============================] - 0s 328us/step - loss: 0.5101 - acc: 0.7518\n",
      "Epoch 196/200\n",
      "568/568 [==============================] - 0s 270us/step - loss: 0.5054 - acc: 0.7606\n",
      "Epoch 197/200\n",
      "568/568 [==============================] - 0s 211us/step - loss: 0.5080 - acc: 0.7553\n",
      "Epoch 198/200\n",
      "568/568 [==============================] - 0s 236us/step - loss: 0.5028 - acc: 0.7553\n",
      "Epoch 199/200\n",
      "568/568 [==============================] - 0s 241us/step - loss: 0.5118 - acc: 0.7447\n",
      "Epoch 200/200\n",
      "568/568 [==============================] - 0s 236us/step - loss: 0.5114 - acc: 0.7518\n"
     ]
    },
    {
     "data": {
      "text/plain": [
       "<keras.callbacks.History at 0x9c0f7f6ba8>"
      ]
     },
     "execution_count": 22,
     "metadata": {},
     "output_type": "execute_result"
    }
   ],
   "source": [
    "classifier.fit(X_train, y_train, batch_size = 10, epochs = 200)"
   ]
  },
  {
   "cell_type": "code",
   "execution_count": null,
   "metadata": {
    "collapsed": true
   },
   "outputs": [],
   "source": [
    "#8 weights * 4 weights at the hidden layer = 32 weights"
   ]
  },
  {
   "cell_type": "code",
   "execution_count": null,
   "metadata": {
    "collapsed": true
   },
   "outputs": [],
   "source": [
    "epoc 1 : 32 weights but I only 568 chances to get it right\n",
    "epoc 1 :   568"
   ]
  },
  {
   "cell_type": "code",
   "execution_count": 35,
   "metadata": {
    "collapsed": true
   },
   "outputs": [],
   "source": [
    "y_pred = classifier.predict(X_test)"
   ]
  },
  {
   "cell_type": "code",
   "execution_count": 37,
   "metadata": {
    "collapsed": true
   },
   "outputs": [],
   "source": [
    "y_pred =  y_pred > 0.5 "
   ]
  },
  {
   "cell_type": "code",
   "execution_count": 38,
   "metadata": {},
   "outputs": [
    {
     "data": {
      "text/plain": [
       "array([[ True],\n",
       "       [False],\n",
       "       [False],\n",
       "       [ True],\n",
       "       [False]])"
      ]
     },
     "execution_count": 38,
     "metadata": {},
     "output_type": "execute_result"
    }
   ],
   "source": [
    "y_pred[:5]"
   ]
  },
  {
   "cell_type": "code",
   "execution_count": 39,
   "metadata": {},
   "outputs": [],
   "source": [
    "from sklearn.metrics import confusion_matrix\n",
    "cm = confusion_matrix(y_test, y_pred)"
   ]
  },
  {
   "cell_type": "code",
   "execution_count": 40,
   "metadata": {},
   "outputs": [
    {
     "data": {
      "text/plain": [
       "array([[89,  4],\n",
       "       [24, 25]], dtype=int64)"
      ]
     },
     "execution_count": 40,
     "metadata": {},
     "output_type": "execute_result"
    }
   ],
   "source": [
    "cm"
   ]
  },
  {
   "cell_type": "code",
   "execution_count": 42,
   "metadata": {},
   "outputs": [
    {
     "data": {
      "text/plain": [
       "49"
      ]
     },
     "execution_count": 42,
     "metadata": {},
     "output_type": "execute_result"
    }
   ],
   "source": [
    "len(y_test[y_test ==1])"
   ]
  },
  {
   "cell_type": "code",
   "execution_count": 43,
   "metadata": {},
   "outputs": [
    {
     "data": {
      "text/plain": [
       "93"
      ]
     },
     "execution_count": 43,
     "metadata": {},
     "output_type": "execute_result"
    }
   ],
   "source": [
    "len(y_test[y_test==0])"
   ]
  },
  {
   "cell_type": "code",
   "execution_count": 44,
   "metadata": {},
   "outputs": [
    {
     "data": {
      "text/plain": [
       "0.6549295774647887"
      ]
     },
     "execution_count": 44,
     "metadata": {},
     "output_type": "execute_result"
    }
   ],
   "source": [
    "93/(93+49)"
   ]
  },
  {
   "cell_type": "code",
   "execution_count": 51,
   "metadata": {},
   "outputs": [
    {
     "data": {
      "text/plain": [
       "142"
      ]
     },
     "execution_count": 51,
     "metadata": {},
     "output_type": "execute_result"
    }
   ],
   "source": [
    "len(y_pred)"
   ]
  },
  {
   "cell_type": "code",
   "execution_count": 52,
   "metadata": {},
   "outputs": [
    {
     "data": {
      "text/plain": [
       "<keras.engine.sequential.Sequential at 0x9c0e2522e8>"
      ]
     },
     "execution_count": 52,
     "metadata": {},
     "output_type": "execute_result"
    }
   ],
   "source": [
    "classifier"
   ]
  },
  {
   "cell_type": "code",
   "execution_count": 53,
   "metadata": {},
   "outputs": [
    {
     "data": {
      "text/plain": [
       "array([[0.19790569]], dtype=float32)"
      ]
     },
     "execution_count": 53,
     "metadata": {},
     "output_type": "execute_result"
    }
   ],
   "source": [
    "classifier.predict(np.array([[2,120,72,45,0,28,0.627,42]]))"
   ]
  },
  {
   "cell_type": "code",
   "execution_count": 54,
   "metadata": {
    "collapsed": true
   },
   "outputs": [],
   "source": [
    "# you do not have diabetes and I am 80% confident"
   ]
  },
  {
   "cell_type": "code",
   "execution_count": null,
   "metadata": {
    "collapsed": true
   },
   "outputs": [],
   "source": []
  }
 ],
 "metadata": {
  "kernelspec": {
   "display_name": "Python [conda env:ai-ml-dl]",
   "language": "python",
   "name": "conda-env-ai-ml-dl-py"
  },
  "language_info": {
   "codemirror_mode": {
    "name": "ipython",
    "version": 3
   },
   "file_extension": ".py",
   "mimetype": "text/x-python",
   "name": "python",
   "nbconvert_exporter": "python",
   "pygments_lexer": "ipython3",
   "version": "3.6.6"
  }
 },
 "nbformat": 4,
 "nbformat_minor": 2
}
